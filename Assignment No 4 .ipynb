{
 "cells": [
  {
   "cell_type": "code",
   "execution_count": 60,
   "metadata": {},
   "outputs": [
    {
     "name": "stdout",
     "output_type": "stream",
     "text": [
      "\n",
      "Please type in the math operation you would like to complete: \n",
      "+ for addition\n",
      "- for subtraction\n",
      "* for multiplication\n",
      "/ for division +\n",
      "Enter your first number: 10\n",
      "Enter your second number: 5\n",
      "15\n"
     ]
    }
   ],
   "source": [
    "# Question No1\n",
    "\n",
    "mathopt = input('''\n",
    "Please type in the math operation you would like to complete: \n",
    "+ for addition\n",
    "- for subtraction\n",
    "* for multiplication\n",
    "/ for division ''')\n",
    "\n",
    "\n",
    "num1 = int(input('Enter your first number: '))\n",
    "num2 = int(input('Enter your second number: '))\n",
    "\n",
    "if mathopt == '+':\n",
    "    \n",
    "    print(num1 + num2)\n",
    "\n",
    "elif mathopt == '-':\n",
    "    \n",
    "    print(num1- num2)\n",
    "\n",
    "elif mathopt == '*':\n",
    "    \n",
    "    print(num1 * num2)\n",
    "\n",
    "elif mathopt == '/':\n",
    "    \n",
    "    print(num1 / num2)\n",
    "\n",
    "else:\n",
    "    print('You have not typed a valid operator.please run the program again.')"
   ]
  },
  {
   "cell_type": "code",
   "execution_count": 53,
   "metadata": {},
   "outputs": [
    {
     "name": "stdout",
     "output_type": "stream",
     "text": [
      "16\n",
      "12\n",
      "13\n",
      "14\n"
     ]
    }
   ],
   "source": [
    "# Question No 2\n",
    "\n",
    "lst = [\"Ammar yasir\",16,True,\"python\",12,13,14];\n",
    "for i in lst:\n",
    "    if type(i) == int:\n",
    "        print(i)"
   ]
  },
  {
   "cell_type": "code",
   "execution_count": 24,
   "metadata": {},
   "outputs": [
    {
     "name": "stdout",
     "output_type": "stream",
     "text": [
      "{'e': 1, 'f': 2}\n",
      "{'e': 1, 'f': 2, 'c': ' ', 'd': 4}\n"
     ]
    }
   ],
   "source": [
    "# Question No 3\n",
    "\n",
    "d = {'e': 1, 'f': 2}\n",
    "print(d)\n",
    "d['c'] = \" \"  \n",
    "d['d'] = 4\n",
    "print(d)"
   ]
  },
  {
   "cell_type": "code",
   "execution_count": 63,
   "metadata": {},
   "outputs": [
    {
     "name": "stdout",
     "output_type": "stream",
     "text": [
      "365\n"
     ]
    }
   ],
   "source": [
    "# Question No 4\n",
    "\n",
    "dic={'A':110,'B':40,'C':215}\n",
    "print(sum(dic.values()) )\n"
   ]
  },
  {
   "cell_type": "code",
   "execution_count": 65,
   "metadata": {},
   "outputs": [
    {
     "name": "stdout",
     "output_type": "stream",
     "text": [
      "4 2 0 4 5 "
     ]
    }
   ],
   "source": [
    "# Question No 5\n",
    "\n",
    "c=[0,2,4,4,5,2,0,4,7,8,5]\n",
    "c1=[]\n",
    "for i in c:\n",
    "    if i not in c1:\n",
    "        c1.append(i)\n",
    "    else:\n",
    "        print(i,end=' ')"
   ]
  },
  {
   "cell_type": "code",
   "execution_count": null,
   "metadata": {},
   "outputs": [],
   "source": []
  }
 ],
 "metadata": {
  "kernelspec": {
   "display_name": "Python 3",
   "language": "python",
   "name": "python3"
  },
  "language_info": {
   "codemirror_mode": {
    "name": "ipython",
    "version": 3
   },
   "file_extension": ".py",
   "mimetype": "text/x-python",
   "name": "python",
   "nbconvert_exporter": "python",
   "pygments_lexer": "ipython3",
   "version": "3.7.4"
  }
 },
 "nbformat": 4,
 "nbformat_minor": 2
}
