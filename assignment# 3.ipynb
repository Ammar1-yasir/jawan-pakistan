{
 "cells": [
  {
   "cell_type": "code",
   "execution_count": 1,
   "metadata": {},
   "outputs": [
    {
     "name": "stdout",
     "output_type": "stream",
     "text": [
      "Twinkle, twinkle, little star,\n",
      "\t How I wonder what you are!\n",
      "\t\tUp above the world so high,\n",
      "\t\tlike a diamond in the sky.\n",
      "Twinkle twinkle, little star,\n",
      "\t How I wonder What you are \n"
     ]
    }
   ],
   "source": [
    "# Question No 1\n",
    "print(\"Twinkle, twinkle, little star,\\n\\t How I wonder what you are!\\n\\t\\tUp above the world so high,\\n\\t\\tlike a diamond in the sky.\\nTwinkle twinkle, little star,\\n\\t How I wonder What you are \")"
   ]
  },
  {
   "cell_type": "code",
   "execution_count": 2,
   "metadata": {},
   "outputs": [
    {
     "name": "stdout",
     "output_type": "stream",
     "text": [
      "print python version\n"
     ]
    },
    {
     "data": {
      "text/plain": [
       "'3.7.4 (default, Aug  9 2019, 18:22:51) [MSC v.1915 32 bit (Intel)]'"
      ]
     },
     "execution_count": 2,
     "metadata": {},
     "output_type": "execute_result"
    }
   ],
   "source": [
    "# Question No 2\n",
    "print(\"print python version\");\n",
    "import sys\n",
    "sys.version\n",
    "\n"
   ]
  },
  {
   "cell_type": "code",
   "execution_count": 3,
   "metadata": {},
   "outputs": [
    {
     "name": "stdout",
     "output_type": "stream",
     "text": [
      "Today's date and time: 2021-10-24 15:26:28.766992\n"
     ]
    }
   ],
   "source": [
    "# Question No 3\n",
    "import datetime\n",
    "\n",
    "today = datetime.datetime.today();\n",
    "print(\"Today's date and time:\", today);\n"
   ]
  },
  {
   "cell_type": "code",
   "execution_count": 4,
   "metadata": {},
   "outputs": [
    {
     "name": "stdout",
     "output_type": "stream",
     "text": [
      "Enter radius of circle 5\n",
      "Area of the circle is: 78.53981633974483\n"
     ]
    }
   ],
   "source": [
    "# Question No 4\n",
    "from math import pi\n",
    "\n",
    "radius = float(input (\"Enter radius of circle \"));\n",
    "\n",
    "print (\"Area of the circle is: \" + str (pi * radius**2));"
   ]
  },
  {
   "cell_type": "code",
   "execution_count": 8,
   "metadata": {},
   "outputs": [
    {
     "name": "stdout",
     "output_type": "stream",
     "text": [
      "Enter your first nameammar \n",
      "Enter your last nameyasir\n",
      "yasir ammar \n"
     ]
    }
   ],
   "source": [
    "# Question No 5\n",
    "fname = input(\"Enter your first name\");\n",
    "lname = input(\"Enter your last name\");\n",
    "print(lname +\" \"+fname);"
   ]
  },
  {
   "cell_type": "code",
   "execution_count": 9,
   "metadata": {},
   "outputs": [
    {
     "name": "stdout",
     "output_type": "stream",
     "text": [
      "Enter your number5\n",
      "Enter your second number5\n",
      "10\n"
     ]
    }
   ],
   "source": [
    "# Question No 6\n",
    "a = int(input(\"Enter your number\"));\n",
    "b = int(input(\"Enter your second number\"))\n",
    "c = a+b;\n",
    "print(c);"
   ]
  },
  {
   "cell_type": "code",
   "execution_count": 20,
   "metadata": {},
   "outputs": [
    {
     "name": "stdout",
     "output_type": "stream",
     "text": [
      "Enter your English marks60\n",
      "Enter your mathametic marks 5\n",
      "Enter your islamiyat marks5\n",
      "Enter your physics marks5\n",
      "Enter your chemistry marks5\n",
      "fail\n"
     ]
    }
   ],
   "source": [
    "# Question No 7\n",
    "Eng = int(input(\"Enter your English marks\"))\n",
    "math = int(input(\"Enter your mathametic marks \"))\n",
    "Isl = int(input(\"Enter your islamiyat marks\"))\n",
    "phy = int(input(\"Enter your physics marks\"))\n",
    "che = int(input(\"Enter your chemistry marks\"))\n",
    "total =550\n",
    "per = (Eng + math + Isl + phy + che)/total*100;\n",
    "if per < 100 and per >= 90:\n",
    "    print(\"A+\");\n",
    "elif per < 90 and per >= 80:\n",
    "    print(\"A\");\n",
    "elif per < 80 and per >= 70:\n",
    "    print(\"B\");\n",
    "elif per < 70 and per >= 60:\n",
    "    print(\"c\")\n",
    "elif per < 50 and per >= 40:\n",
    "    print(\"c\")\n",
    "elif per < 40 and per >= 33:\n",
    "    print(\"D\");\n",
    "else:\n",
    "    print(\"fail\");\n",
    "    "
   ]
  },
  {
   "cell_type": "code",
   "execution_count": 24,
   "metadata": {},
   "outputs": [
    {
     "name": "stdout",
     "output_type": "stream",
     "text": [
      "Please Enter the Number6\n",
      "Number is Even\n"
     ]
    }
   ],
   "source": [
    "# Question No 8\n",
    "Number=int(input(\"Please Enter the Number\"))\n",
    "\n",
    "if Number % 2 == 0 :\n",
    "   print(\"Number is Even\")\n",
    "else: \n",
    "   print(\"Number is Odd\")"
   ]
  },
  {
   "cell_type": "code",
   "execution_count": 26,
   "metadata": {},
   "outputs": [
    {
     "name": "stdout",
     "output_type": "stream",
     "text": [
      "Number of items in the list =  6\n"
     ]
    }
   ],
   "source": [
    "# Question No 9\n",
    "\n",
    "ListName = [\"ammar\", \"yasir\", 10, 22, 34,\"python\"]\n",
    "print (\"Number of items in the list = \", len(ListName));"
   ]
  },
  {
   "cell_type": "code",
   "execution_count": 27,
   "metadata": {},
   "outputs": [
    {
     "name": "stdout",
     "output_type": "stream",
     "text": [
      "110\n"
     ]
    }
   ],
   "source": [
    "# Question No 10\n",
    "MyList=[25,15,5,15,36,14]\n",
    "Add=sum(MyList)\n",
    "print(Add);"
   ]
  },
  {
   "cell_type": "code",
   "execution_count": 29,
   "metadata": {},
   "outputs": [
    {
     "name": "stdout",
     "output_type": "stream",
     "text": [
      "Largest Number In the List : 515\n"
     ]
    }
   ],
   "source": [
    "# Question No 11\n",
    "b=[1,1,12,5,65,8,13,21,34,515,89]\n",
    "print(\"Largest Number In the List :\",max(b))"
   ]
  },
  {
   "cell_type": "code",
   "execution_count": 31,
   "metadata": {},
   "outputs": [
    {
     "name": "stdout",
     "output_type": "stream",
     "text": [
      "1\n",
      "1\n",
      "2\n",
      "3\n",
      "4\n"
     ]
    }
   ],
   "source": [
    "# Question 12\n",
    "x=[1,1,2,3,4,5,8,13,21,34,55,89]\n",
    "y=len(x)\n",
    "for i in range(y):\n",
    "    if x[i]<5:\n",
    "        print(x[i])"
   ]
  },
  {
   "cell_type": "code",
   "execution_count": null,
   "metadata": {},
   "outputs": [],
   "source": []
  }
 ],
 "metadata": {
  "kernelspec": {
   "display_name": "Python 3",
   "language": "python",
   "name": "python3"
  },
  "language_info": {
   "codemirror_mode": {
    "name": "ipython",
    "version": 3
   },
   "file_extension": ".py",
   "mimetype": "text/x-python",
   "name": "python",
   "nbconvert_exporter": "python",
   "pygments_lexer": "ipython3",
   "version": "3.7.4"
  }
 },
 "nbformat": 4,
 "nbformat_minor": 2
}
